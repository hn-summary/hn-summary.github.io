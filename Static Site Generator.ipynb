{
 "cells": [
  {
   "cell_type": "code",
   "execution_count": 1,
   "id": "44e65b0f-af4d-47a6-af74-f22d64b284ed",
   "metadata": {},
   "outputs": [
    {
     "name": "stderr",
     "output_type": "stream",
     "text": [
      "/Users/santiagobasulto/.virtualenvs/ds/lib/python3.8/site-packages/pandas/compat/__init__.py:124: UserWarning: Could not import the lzma module. Your installed Python is incomplete. Attempting to use lzma compression will result in a RuntimeError.\n",
      "  warnings.warn(msg)\n"
     ]
    }
   ],
   "source": [
    "import re\n",
    "import json\n",
    "from pathlib import Path\n",
    "from urllib.parse import urlparse\n",
    "from datetime import date\n",
    "\n",
    "import jinja2\n",
    "import pandas as pd\n",
    "\n",
    "import utils"
   ]
  },
  {
   "cell_type": "markdown",
   "id": "1cd9445c-5231-4751-bf33-88b524a47e4d",
   "metadata": {},
   "source": [
    "### Setup"
   ]
  },
  {
   "cell_type": "code",
   "execution_count": 2,
   "id": "4107eebb-ae38-4278-8f8c-2c28b374832f",
   "metadata": {},
   "outputs": [],
   "source": [
    "BASE_BUILD_PATH = Path('docs/')"
   ]
  },
  {
   "cell_type": "code",
   "execution_count": 3,
   "id": "2a01707b-b759-4de8-9eb7-d2d025a46600",
   "metadata": {},
   "outputs": [],
   "source": [
    "main_df = pd.read_csv(\n",
    "    '~/code/python/hn-download-data/hn_data/hn.csv',\n",
    "    parse_dates=['Created At'],\n",
    "    dtype={\n",
    "        'Post Type': 'category'\n",
    "    })"
   ]
  },
  {
   "cell_type": "code",
   "execution_count": 4,
   "id": "e9a4a10c-25be-4e1e-82f6-b3d256e4ebe3",
   "metadata": {},
   "outputs": [],
   "source": [
    "PATTERN = re.compile('(www\\.)?')\n",
    "def extract_domain(url):\n",
    "    if pd.isnull(url) or not url.startswith('http'):\n",
    "        return None\n",
    "    return PATTERN.sub('', urlparse(url).netloc)\n",
    "\n",
    "main_df['URL Domain'] = main_df['URL'].apply(extract_domain)\n",
    "del extract_domain\n",
    "del PATTERN"
   ]
  },
  {
   "cell_type": "code",
   "execution_count": 5,
   "id": "161a90da-3851-425d-8837-d733bd9c5252",
   "metadata": {},
   "outputs": [],
   "source": [
    "main_df.loc[\n",
    "    main_df['Post Type'] == 'ask_hn', 'Title'\n",
    "] = main_df.loc[main_df['Post Type'] == 'ask_hn', 'Title'].str.replace(re.compile('(Ask HN: )?'), '')"
   ]
  },
  {
   "cell_type": "code",
   "execution_count": 6,
   "id": "874fa6f0-4c9d-4456-bc60-9809e4f4fc6b",
   "metadata": {},
   "outputs": [],
   "source": [
    "main_df.loc[\n",
    "    main_df['Post Type'] == 'show_hn', 'Title'\n",
    "] = main_df.loc[main_df['Post Type'] == 'show_hn', 'Title'].str.replace(re.compile('(Show HN: )?'), '')"
   ]
  },
  {
   "cell_type": "markdown",
   "id": "a0edc55d-312a-4230-be10-5793827947fd",
   "metadata": {},
   "source": [
    "#### Domain Groups (for custom top charts)"
   ]
  },
  {
   "cell_type": "code",
   "execution_count": 7,
   "id": "57973eb4-155c-4c05-8767-08bd8855855b",
   "metadata": {},
   "outputs": [],
   "source": [
    "with open('domain_groups.json') as fp:\n",
    "    DOMAIN_GROUPS = json.load(fp)"
   ]
  },
  {
   "cell_type": "markdown",
   "id": "16f1792f-e76b-42b4-b245-c1d4ec8a4c88",
   "metadata": {},
   "source": [
    "##### Jinja Conf"
   ]
  },
  {
   "cell_type": "code",
   "execution_count": 8,
   "id": "fb9bb1a3-11a7-43b8-b376-fe58174c6821",
   "metadata": {},
   "outputs": [],
   "source": [
    "TEMPLATE_NAME = \"template.html\""
   ]
  },
  {
   "cell_type": "code",
   "execution_count": 9,
   "id": "c52af973-7382-4af6-b1d1-58467df9aed4",
   "metadata": {},
   "outputs": [],
   "source": [
    "templateLoader = jinja2.FileSystemLoader(searchpath=\"./\")\n",
    "templateEnv = jinja2.Environment(loader=templateLoader)\n",
    "TEMPLATE = templateEnv.get_template(TEMPLATE_NAME)"
   ]
  },
  {
   "cell_type": "markdown",
   "id": "15c3c835-ae96-4705-a6fd-8e65b41d4a87",
   "metadata": {},
   "source": [
    "---"
   ]
  },
  {
   "cell_type": "markdown",
   "id": "d86cb32c-c745-467f-8ace-97db5b1f5921",
   "metadata": {},
   "source": [
    "### Calculate pages to build"
   ]
  },
  {
   "cell_type": "code",
   "execution_count": 11,
   "id": "001da171-e60b-40ce-b959-305fc82aedbd",
   "metadata": {},
   "outputs": [],
   "source": [
    "ALL_YEARS = [int(y) for y in main_df['Created At'].dt.year.unique()]"
   ]
  },
  {
   "cell_type": "code",
   "execution_count": 12,
   "id": "345fcbcc-32c0-4080-8c18-1fff70721412",
   "metadata": {},
   "outputs": [],
   "source": [
    "year_data = [{\n",
    "    \"year\": year,\n",
    "    \"url\": f'{year}.html',\n",
    "    **(dict(zip(['start', 'end'], utils.get_date_range_for_year(year))))\n",
    "} for year in ALL_YEARS]"
   ]
  },
  {
   "cell_type": "code",
   "execution_count": 13,
   "id": "784a2e4a-d5cc-48ae-841b-d6ee0c534991",
   "metadata": {},
   "outputs": [],
   "source": [
    "month_data = [{\n",
    "    \"year\": year,\n",
    "    \"month\": month,\n",
    "    \"name\": date(year, month, 1).strftime('%b'),\n",
    "    \"url\": f\"{year}-{month}.html\",\n",
    "    \"is_available\": utils.get_date_range_for_month(year, month)[1] < pd.Timestamp.now(),\n",
    "    **(dict(zip(['start', 'end'], utils.get_date_range_for_month(year, month))))\n",
    "} for year in ALL_YEARS for month in range(1, 13)]"
   ]
  },
  {
   "cell_type": "code",
   "execution_count": 14,
   "id": "1c761ee8-1c4d-450a-b0ab-ae8705ac2369",
   "metadata": {},
   "outputs": [],
   "source": [
    "week_data = [{\n",
    "    \"year\": year,\n",
    "    \"week\": week,\n",
    "    \"name\": f\"W{week}\",\n",
    "    \"url\": f\"{year}-W{week}.html\",\n",
    "    \"is_available\": utils.get_date_range_for_week(year, week)[1] < pd.Timestamp.now(),\n",
    "    **(dict(zip(['start', 'end'], utils.get_date_range_for_week(year, week))))\n",
    "} for year in ALL_YEARS for week in range(1, utils._get_weeks_in_a_year(year) + 1)]"
   ]
  },
  {
   "cell_type": "markdown",
   "id": "e319697e-99de-4ce4-abec-62a98d2425c8",
   "metadata": {},
   "source": [
    "---\n",
    "\n",
    "\n",
    "## Static Generator"
   ]
  },
  {
   "cell_type": "code",
   "execution_count": 15,
   "id": "81bb3cc0-d4d2-4afc-8e92-c280e27fbc63",
   "metadata": {},
   "outputs": [],
   "source": [
    "def generate_page_context(df, domain_groups, fname, year, start, end, week=None, month=None):\n",
    "    assert not all([week, month])\n",
    "    top_charts = utils.generate_top_charts(df, domain_groups, start, end)\n",
    "\n",
    "    context = {\n",
    "        \"start\": start,\n",
    "        \"end\": end,\n",
    "        \"top_charts\": top_charts,\n",
    "        \"selected_year\": year,\n",
    "        \n",
    "        'ALL_YEARS': ALL_YEARS,\n",
    "        'ALL_MONTHS': [month for month in month_data if month['year'] == year],\n",
    "        'ALL_WEEKS': [week for week in week_data if week['year'] == year],\n",
    "    }\n",
    "    if month:\n",
    "        context['selected_month'] = month\n",
    "    if week:\n",
    "        context['selected_week'] = week\n",
    "    return context"
   ]
  },
  {
   "cell_type": "markdown",
   "id": "a3b87aaa-87fa-4385-9e45-e277d1b6c46a",
   "metadata": {},
   "source": [
    "#### Generate years"
   ]
  },
  {
   "cell_type": "code",
   "execution_count": null,
   "id": "9e1e8669-81bb-44d0-9a14-685ac46fb4a8",
   "metadata": {},
   "outputs": [],
   "source": [
    "for year in year_data:\n",
    "    context = generate_page_context(\n",
    "        main_df, DOMAIN_GROUPS, year['url'], year['year'], year['start'], year['end'])\n",
    "    path = BASE_BUILD_PATH / year['url']\n",
    "    with path.open('w') as fp:\n",
    "        fp.write(TEMPLATE.render(**context))"
   ]
  },
  {
   "cell_type": "markdown",
   "id": "6076a14c-42a4-4497-8a8c-5194a902da6b",
   "metadata": {},
   "source": [
    "#### Generate Months"
   ]
  },
  {
   "cell_type": "code",
   "execution_count": null,
   "id": "42af88a9-f7c5-4c7a-a2d1-f1ce512c96e9",
   "metadata": {},
   "outputs": [],
   "source": [
    "for month in month_data:\n",
    "    if not month['is_available']:\n",
    "        continue\n",
    "    context = generate_page_context(\n",
    "        main_df, DOMAIN_GROUPS,\n",
    "        month['url'], month['year'], month['start'], month['end'], month=month['month'])\n",
    "    \n",
    "    path = BASE_BUILD_PATH / month['url']\n",
    "    with path.open('w') as fp:\n",
    "        fp.write(TEMPLATE.render(**context))"
   ]
  },
  {
   "cell_type": "markdown",
   "id": "30d7251a-2177-4576-981e-9acf1faaa8ae",
   "metadata": {
    "tags": []
   },
   "source": [
    "#### Generate Weeks"
   ]
  },
  {
   "cell_type": "code",
   "execution_count": null,
   "id": "0f71240f-eb26-46d9-a420-5b56d4e4fb04",
   "metadata": {},
   "outputs": [],
   "source": [
    "for week in week_data:\n",
    "    if not week['is_available']:\n",
    "        continue\n",
    "    context = generate_page_context(\n",
    "        main_df, DOMAIN_GROUPS,\n",
    "        week['url'], week['year'], week['start'], week['end'], week=week['week'])\n",
    "    \n",
    "    path = BASE_BUILD_PATH / week['url']\n",
    "    with path.open('w') as fp:\n",
    "        fp.write(TEMPLATE.render(**context))"
   ]
  },
  {
   "cell_type": "markdown",
   "id": "42b5f509-9dd0-4e90-96f5-829995d032e4",
   "metadata": {},
   "source": [
    "### Generate index.html"
   ]
  },
  {
   "cell_type": "code",
   "execution_count": null,
   "id": "7fbe5945-1a83-4946-8fa5-29a2e00752b4",
   "metadata": {},
   "outputs": [],
   "source": [
    "week = [w for w in week_data if w['is_available']][-1]"
   ]
  },
  {
   "cell_type": "code",
   "execution_count": null,
   "id": "fef5ff4f-76db-4bd2-a42f-5b422970e33f",
   "metadata": {},
   "outputs": [],
   "source": [
    "week_path = BASE_BUILD_PATH / week['url']\n",
    "assert week_path.exists()"
   ]
  },
  {
   "cell_type": "code",
   "execution_count": null,
   "id": "325ee113-0f3c-4a76-964e-a33de3822aef",
   "metadata": {},
   "outputs": [],
   "source": [
    "with (BASE_BUILD_PATH / 'index.html').open('w') as fp:\n",
    "    fp.write(week_path.open().read())"
   ]
  }
 ],
 "metadata": {
  "kernelspec": {
   "display_name": "Python 3 (ipykernel)",
   "language": "python",
   "name": "python3"
  },
  "language_info": {
   "codemirror_mode": {
    "name": "ipython",
    "version": 3
   },
   "file_extension": ".py",
   "mimetype": "text/x-python",
   "name": "python",
   "nbconvert_exporter": "python",
   "pygments_lexer": "ipython3",
   "version": "3.8.0"
  }
 },
 "nbformat": 4,
 "nbformat_minor": 5
}
