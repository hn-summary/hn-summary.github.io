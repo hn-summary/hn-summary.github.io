{
 "cells": [
  {
   "cell_type": "code",
   "execution_count": 1,
   "metadata": {},
   "outputs": [
    {
     "name": "stderr",
     "output_type": "stream",
     "text": [
      "/Users/santiagobasulto/.virtualenvs/ds/lib/python3.8/site-packages/pandas/compat/__init__.py:85: UserWarning: Could not import the lzma module. Your installed Python is incomplete. Attempting to use lzma compression will result in a RuntimeError.\n",
      "  warnings.warn(msg)\n",
      "/Users/santiagobasulto/.virtualenvs/ds/lib/python3.8/site-packages/pandas/compat/__init__.py:85: UserWarning: Could not import the lzma module. Your installed Python is incomplete. Attempting to use lzma compression will result in a RuntimeError.\n",
      "  warnings.warn(msg)\n"
     ]
    }
   ],
   "source": [
    "import re\n",
    "import json\n",
    "from pathlib import Path\n",
    "from urllib.parse import urlparse\n",
    "\n",
    "import jinja2\n",
    "import pandas as pd\n",
    "\n",
    "import utils"
   ]
  },
  {
   "cell_type": "code",
   "execution_count": 2,
   "metadata": {},
   "outputs": [],
   "source": [
    "assert Path('hn.csv').exists(), \"You're missing the source file, check the readme\"\n",
    "main_df = pd.read_csv(\n",
    "    'hn.csv',\n",
    "    parse_dates=['Created At'],\n",
    "    dtype={\n",
    "        'Post Type': 'category'\n",
    "    })"
   ]
  },
  {
   "cell_type": "code",
   "execution_count": 3,
   "metadata": {},
   "outputs": [],
   "source": [
    "PATTERN = re.compile('(www\\.)?')\n",
    "def extract_domain(url):\n",
    "    if pd.isnull(url) or not url.startswith('http'):\n",
    "        return None\n",
    "    return PATTERN.sub('', urlparse(url).netloc)\n",
    "\n",
    "main_df['URL Domain'] = main_df['URL'].apply(extract_domain)\n",
    "del extract_domain\n",
    "del PATTERN"
   ]
  },
  {
   "cell_type": "markdown",
   "metadata": {},
   "source": [
    "##### LStrip \"Ask HN:\" and \"Show HN:\" for better readability"
   ]
  },
  {
   "cell_type": "code",
   "execution_count": 4,
   "metadata": {},
   "outputs": [],
   "source": [
    "main_df.loc[main_df['Post Type'] == 'ask_hn', 'Title'] = main_df.loc[main_df['Post Type'] == 'ask_hn', 'Title'].str.replace(re.compile('(Ask HN: )?'), '')"
   ]
  },
  {
   "cell_type": "code",
   "execution_count": 5,
   "metadata": {},
   "outputs": [],
   "source": [
    "main_df.loc[main_df['Post Type'] == 'show_hn', 'Title'] = main_df.loc[main_df['Post Type'] == 'show_hn', 'Title'].str.replace(re.compile('(Show HN: )?'), '')"
   ]
  },
  {
   "cell_type": "markdown",
   "metadata": {},
   "source": [
    "#### Domain Groups (for custom top charts)"
   ]
  },
  {
   "cell_type": "code",
   "execution_count": 6,
   "metadata": {},
   "outputs": [],
   "source": [
    "with open('domain_groups.json') as fp:\n",
    "    DOMAIN_GROUPS = json.load(fp)"
   ]
  },
  {
   "cell_type": "markdown",
   "metadata": {},
   "source": [
    "### Jinja Conf"
   ]
  },
  {
   "cell_type": "code",
   "execution_count": 7,
   "metadata": {},
   "outputs": [],
   "source": [
    "TEMPLATE_NAME = \"template.html\""
   ]
  },
  {
   "cell_type": "code",
   "execution_count": 45,
   "metadata": {},
   "outputs": [],
   "source": [
    "templateLoader = jinja2.FileSystemLoader(searchpath=\"./\")\n",
    "templateEnv = jinja2.Environment(loader=templateLoader)\n",
    "TEMPLATE = templateEnv.get_template(TEMPLATE_NAME)"
   ]
  },
  {
   "cell_type": "markdown",
   "metadata": {},
   "source": [
    "### Static generation"
   ]
  },
  {
   "cell_type": "code",
   "execution_count": 32,
   "metadata": {},
   "outputs": [],
   "source": [
    "def generate_page(context_generator, output, *params, force=False):\n",
    "    context = context_generator(main_df, DOMAIN_GROUPS, *params)\n",
    "    path = Path(output)\n",
    "    if path.exists() and not force:\n",
    "        resp = input(f\"> Warning, {output} already exists. Overwrite? [y/N]\")\n",
    "        if resp.lower() != \"y\":\n",
    "            print(\"Aborting...\")\n",
    "            return\n",
    "    with path.open(\"w\") as fp:\n",
    "        fp.write(TEMPLATE.render(**context))"
   ]
  },
  {
   "cell_type": "markdown",
   "metadata": {},
   "source": [
    "### Main generation"
   ]
  },
  {
   "cell_type": "code",
   "execution_count": null,
   "metadata": {},
   "outputs": [],
   "source": [
    "assert False, \"WARNING! You're about to overrite all the site\""
   ]
  },
  {
   "cell_type": "code",
   "execution_count": 46,
   "metadata": {},
   "outputs": [],
   "source": [
    "years_to_build = [\n",
    "    (year, f\"{year}.html\") for year in utils.ALL_YEARS\n",
    "]"
   ]
  },
  {
   "cell_type": "code",
   "execution_count": 67,
   "metadata": {},
   "outputs": [],
   "source": [
    "months = [m['numeric'] for m in utils.ALL_MONTHS]"
   ]
  },
  {
   "cell_type": "code",
   "execution_count": 68,
   "metadata": {},
   "outputs": [],
   "source": [
    "months_to_build = [(year, int(month), f\"{year}-{month}.html\") for year in utils.ALL_YEARS for month in months]"
   ]
  },
  {
   "cell_type": "code",
   "execution_count": 49,
   "metadata": {},
   "outputs": [],
   "source": [
    "weeks_to_build = [\n",
    "    (year, week, f\"{year}-W{week}.html\")\n",
    "    for year in utils.ALL_YEARS\n",
    "    for week in range(1, utils._get_weeks_in_a_year(year)+1)\n",
    "]"
   ]
  },
  {
   "cell_type": "code",
   "execution_count": 50,
   "metadata": {},
   "outputs": [],
   "source": [
    "BASE_BUILD_PATH = Path('docs/')"
   ]
  },
  {
   "cell_type": "code",
   "execution_count": 51,
   "metadata": {},
   "outputs": [],
   "source": [
    "if not BASE_BUILD_PATH.exists():\n",
    "    BASE_BUILD_PATH.mkdir()"
   ]
  },
  {
   "cell_type": "code",
   "execution_count": 52,
   "metadata": {},
   "outputs": [],
   "source": [
    "for year, fname in years_to_build:\n",
    "    path = BASE_BUILD_PATH / fname\n",
    "    generate_page(utils.generate_page_context_year, path, year, force=True)"
   ]
  },
  {
   "cell_type": "code",
   "execution_count": 64,
   "metadata": {},
   "outputs": [
    {
     "data": {
      "text/plain": [
       "[(2006, '01', 1, '2006-1.html'),\n",
       " (2006, '02', 2, '2006-2.html'),\n",
       " (2006, '03', 3, '2006-3.html'),\n",
       " (2006, '04', 4, '2006-4.html'),\n",
       " (2006, '05', 5, '2006-5.html')]"
      ]
     },
     "execution_count": 64,
     "metadata": {},
     "output_type": "execute_result"
    }
   ],
   "source": [
    "months_to_build[:5]"
   ]
  },
  {
   "cell_type": "code",
   "execution_count": 69,
   "metadata": {},
   "outputs": [],
   "source": [
    "for year, month, fname in months_to_build:\n",
    "    path = BASE_BUILD_PATH / fname\n",
    "    generate_page(utils.generate_page_context_month, path, year, month, force=True)"
   ]
  },
  {
   "cell_type": "code",
   "execution_count": 54,
   "metadata": {},
   "outputs": [],
   "source": [
    "for year, week, fname in weeks_to_build:\n",
    "    path = BASE_BUILD_PATH / fname\n",
    "    generate_page(utils.generate_page_context_week, path, year, week, force=True)"
   ]
  },
  {
   "cell_type": "markdown",
   "metadata": {},
   "source": [
    "### Special case: `index.html`"
   ]
  },
  {
   "cell_type": "code",
   "execution_count": 55,
   "metadata": {},
   "outputs": [],
   "source": [
    "year, week, _ = weeks_to_build[-1]"
   ]
  },
  {
   "cell_type": "code",
   "execution_count": 56,
   "metadata": {},
   "outputs": [],
   "source": [
    "TEMPLATE = templateEnv.get_template(TEMPLATE_NAME)"
   ]
  },
  {
   "cell_type": "code",
   "execution_count": 57,
   "metadata": {},
   "outputs": [],
   "source": [
    "generate_page(utils.generate_page_context_week, BASE_BUILD_PATH / \"index.html\", year, week, force=True)"
   ]
  }
 ],
 "metadata": {
  "kernelspec": {
   "display_name": "Python 3",
   "language": "python",
   "name": "python3"
  },
  "language_info": {
   "codemirror_mode": {
    "name": "ipython",
    "version": 3
   },
   "file_extension": ".py",
   "mimetype": "text/x-python",
   "name": "python",
   "nbconvert_exporter": "python",
   "pygments_lexer": "ipython3",
   "version": "3.8.0"
  }
 },
 "nbformat": 4,
 "nbformat_minor": 4
}
